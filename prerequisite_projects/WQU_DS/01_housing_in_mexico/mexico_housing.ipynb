{
  "nbformat": 4,
  "nbformat_minor": 0,
  "metadata": {
    "colab": {
      "provenance": [],
      "authorship_tag": "ABX9TyN/pZ/nQomYDiS8JUsiEk/J",
      "include_colab_link": true
    },
    "kernelspec": {
      "name": "python3",
      "display_name": "Python 3"
    },
    "language_info": {
      "name": "python"
    }
  },
  "cells": [
    {
      "cell_type": "markdown",
      "metadata": {
        "id": "view-in-github",
        "colab_type": "text"
      },
      "source": [
        "<a href=\"https://colab.research.google.com/github/ibshafique/mlops_with_poridhi/blob/main/prerequisite_projects/WQU_DS/01_housing_in_mexico/mexico_housing.ipynb\" target=\"_parent\"><img src=\"https://colab.research.google.com/assets/colab-badge.svg\" alt=\"Open In Colab\"/></a>"
      ]
    },
    {
      "cell_type": "markdown",
      "source": [
        "# Prerequisites"
      ],
      "metadata": {
        "id": "RuJVwEugbhml"
      }
    },
    {
      "cell_type": "markdown",
      "source": [
        "## Importing Relevant Libraries"
      ],
      "metadata": {
        "id": "VnByEtCfbpgb"
      }
    },
    {
      "cell_type": "code",
      "source": [
        "import pandas as pd\n",
        "import matplotlib.pyplot as plt\n",
        "import plotly.express as px"
      ],
      "metadata": {
        "id": "Oo3WPMNzbura"
      },
      "execution_count": null,
      "outputs": []
    },
    {
      "cell_type": "markdown",
      "source": [
        "## Importing Datasets"
      ],
      "metadata": {
        "id": "5J5OrcDra_no"
      }
    },
    {
      "cell_type": "code",
      "execution_count": null,
      "metadata": {
        "id": "k9tGIZOwsCcZ"
      },
      "outputs": [],
      "source": [
        "url_1 = \"https://raw.githubusercontent.com/ibshafique/mlops_with_poridhi/refs/heads/main/prerequisite_projects/WQU_DS/01_housing_in_mexico/dataset/mexico-real-estate-1.csv\"\n",
        "url_2 = \"https://raw.githubusercontent.com/ibshafique/mlops_with_poridhi/refs/heads/main/prerequisite_projects/WQU_DS/01_housing_in_mexico/dataset/mexico-real-estate-2.csv\"\n",
        "url_3 = \"https://raw.githubusercontent.com/ibshafique/mlops_with_poridhi/refs/heads/main/prerequisite_projects/WQU_DS/01_housing_in_mexico/dataset/mexico-real-estate-3.csv\""
      ]
    },
    {
      "cell_type": "code",
      "source": [
        "df1 = pd.read_csv(url_1)\n",
        "df2 = pd.read_csv(url_2)\n",
        "df3 = pd.read_csv(url_3)"
      ],
      "metadata": {
        "id": "3PhHh78n1dSB"
      },
      "execution_count": null,
      "outputs": []
    },
    {
      "cell_type": "markdown",
      "source": [
        "# Data Insights"
      ],
      "metadata": {
        "id": "ubCem31d1hrP"
      }
    },
    {
      "cell_type": "markdown",
      "source": [
        "## Dataset 1"
      ],
      "metadata": {
        "id": "zQB_fIKL1pQZ"
      }
    },
    {
      "cell_type": "code",
      "source": [
        "df1.head()"
      ],
      "metadata": {
        "id": "OWA0oa-wjKN5"
      },
      "execution_count": null,
      "outputs": []
    },
    {
      "cell_type": "code",
      "source": [
        "df1.shape"
      ],
      "metadata": {
        "id": "0PG0p7iv2xJx"
      },
      "execution_count": null,
      "outputs": []
    },
    {
      "cell_type": "code",
      "source": [
        "df1.info()"
      ],
      "metadata": {
        "id": "7gZvnp9t2ts6"
      },
      "execution_count": null,
      "outputs": []
    },
    {
      "cell_type": "markdown",
      "source": [
        "## Dataset 2"
      ],
      "metadata": {
        "id": "Z3j7pbu31sq6"
      }
    },
    {
      "cell_type": "code",
      "source": [
        "df2.head()"
      ],
      "metadata": {
        "id": "FamGZY5tjPAo"
      },
      "execution_count": null,
      "outputs": []
    },
    {
      "cell_type": "code",
      "source": [
        "df2.shape"
      ],
      "metadata": {
        "id": "kYaIJ-kC247s"
      },
      "execution_count": null,
      "outputs": []
    },
    {
      "cell_type": "code",
      "source": [
        "df2.info()"
      ],
      "metadata": {
        "id": "r_GU7iNb24yq"
      },
      "execution_count": null,
      "outputs": []
    },
    {
      "cell_type": "markdown",
      "source": [
        "## Dataset 3"
      ],
      "metadata": {
        "id": "Es5TO4bm1vBP"
      }
    },
    {
      "cell_type": "code",
      "source": [
        "df3.head()"
      ],
      "metadata": {
        "id": "FOCVrCJ_j98q"
      },
      "execution_count": null,
      "outputs": []
    },
    {
      "cell_type": "code",
      "source": [
        "df3.shape"
      ],
      "metadata": {
        "id": "1JQss5da2_Eq"
      },
      "execution_count": null,
      "outputs": []
    },
    {
      "cell_type": "code",
      "source": [
        "df3.info()"
      ],
      "metadata": {
        "id": "qeHAlnnK3BKB"
      },
      "execution_count": null,
      "outputs": []
    },
    {
      "cell_type": "markdown",
      "source": [
        "# Data Cleaning"
      ],
      "metadata": {
        "id": "uJoVOM0vOLE6"
      }
    },
    {
      "cell_type": "markdown",
      "source": [
        "From the cell above we see that not all of our datasets have the same consistency. There are some missing values, different currency values of house prices and different location naming systems. We need to clean this data to make it consistent."
      ],
      "metadata": {
        "id": "SzNGWmNPONmj"
      }
    },
    {
      "cell_type": "markdown",
      "source": [
        "## Cleaning df1"
      ],
      "metadata": {
        "id": "yRUwchGNSp6r"
      }
    },
    {
      "cell_type": "code",
      "source": [
        "# df1 has a few of missing values, so we will remove those rows with missing values\n",
        "print('Shape of df1 before cleaning: ', df1.shape)\n",
        "df1.dropna(inplace=True)\n",
        "print('Shape of df1 after cleaning: ', df1.shape)\n",
        "\n",
        "# the 'price_usd' column has $ infront of every values and commas, we need to drop these\n",
        "df1['price_usd'] = df1['price_usd'].str.replace('$', '')\n",
        "df1['price_usd'] = df1['price_usd'].str.replace(',', '')\n",
        "df1.head()"
      ],
      "metadata": {
        "id": "V73msn3KS7Qm"
      },
      "execution_count": null,
      "outputs": []
    },
    {
      "cell_type": "markdown",
      "source": [
        "## Cleaning df2"
      ],
      "metadata": {
        "id": "OuRfNTEkStRC"
      }
    },
    {
      "cell_type": "code",
      "source": [
        "# removing rows with missing values in df2\n",
        "print('Shape of df2 before cleaning: ', df2.shape)\n",
        "df2.dropna(inplace=True)\n",
        "print('Shape of df2 after cleaning: ', df2.shape)\n",
        "\n",
        "# df2 has the price in Mexican Pesos instead of US Dollars.\n",
        "# 1USD = 19MXN\n",
        "df2['price_usd'] = (df2['price_mxn'] / 19).round(2)\n",
        "\n",
        "#dropping 'price_mxn' column\n",
        "df2.drop(columns=['price_mxn'], inplace=True)\n",
        "df2.head()"
      ],
      "metadata": {
        "id": "Cxxzlu-8UPDm"
      },
      "execution_count": null,
      "outputs": []
    },
    {
      "cell_type": "markdown",
      "source": [
        "## Cleaning df3"
      ],
      "metadata": {
        "id": "6QysqrPdSvPC"
      }
    },
    {
      "cell_type": "code",
      "source": [
        "# removing rows with missing values in df3\n",
        "print('Shape of df3 before cleaning: ', df3.shape)\n",
        "df3.dropna(inplace=True)\n",
        "print('Shape of df3 after cleaning: ', df3.shape)\n",
        "\n",
        "# in df3, the naming system of the location of the property is different\n",
        "# we will clean this to make the data consistent\n",
        "df3['state'] = df3['place_with_parent_names'].str.split('|').str[2]\n",
        "\n",
        "# dropping 'place_with_parent_names' column\n",
        "df3.drop(columns= 'place_with_parent_names', inplace=True)\n",
        "\n",
        "# breaking the 'lat-lon' column to 2 columns 'lat' and 'lon'\n",
        "df3['lat'] = df3['lat-lon'].str.split(',').str[0]\n",
        "df3['lon'] = df3['lat-lon'].str.split(',').str[1]\n",
        "\n",
        "# dropping 'lat-lon' column\n",
        "df3.drop(columns='lat-lon', inplace=True)\n",
        "\n",
        "df3.head()"
      ],
      "metadata": {
        "id": "yPFiXo4YZumh"
      },
      "execution_count": null,
      "outputs": []
    },
    {
      "cell_type": "markdown",
      "source": [
        "# Concatenate DataFrames\n"
      ],
      "metadata": {
        "id": "zDYkX0ETkgmT"
      }
    },
    {
      "cell_type": "markdown",
      "source": [
        "We are concetenating the 3 dataframes (df1, df2 and df3)to make df."
      ],
      "metadata": {
        "id": "5BZjq41zlbu7"
      }
    },
    {
      "cell_type": "code",
      "source": [
        "# Concatenate df1, df2, and df3\n",
        "df = pd.concat([df1, df2, df3])\n",
        "\n",
        "# Print object type, shape, and head\n",
        "print(\"df type:\", type(df))\n",
        "print(\"df shape:\", df.shape)\n",
        "df.head()"
      ],
      "metadata": {
        "id": "lZbVEX1zkn_J"
      },
      "execution_count": null,
      "outputs": []
    },
    {
      "cell_type": "code",
      "source": [
        "  df[\"price_usd\"] = df.price_usd.astype(float)"
      ],
      "metadata": {
        "id": "D5SBJLmrjocE"
      },
      "execution_count": null,
      "outputs": []
    },
    {
      "cell_type": "code",
      "source": [
        "df.info()"
      ],
      "metadata": {
        "id": "C22vzaHyiNPE"
      },
      "execution_count": null,
      "outputs": []
    },
    {
      "cell_type": "markdown",
      "source": [
        "---"
      ],
      "metadata": {
        "id": "yuWVSAsxy9j4"
      }
    },
    {
      "cell_type": "markdown",
      "source": [
        "# Data Visualization"
      ],
      "metadata": {
        "id": "9mKTTNIj2enm"
      }
    },
    {
      "cell_type": "markdown",
      "source": [
        "We are plotting the properties in a map. When we hover the mouse over each of them, the price will show up."
      ],
      "metadata": {
        "id": "ZnExpg1f2iuo"
      }
    },
    {
      "cell_type": "code",
      "source": [
        "# Use plotly express to create figure\n",
        "fig = px.scatter_mapbox(\n",
        "    df,  # Our DataFrame\n",
        "    lat='lat',\n",
        "    lon='lon',\n",
        "    center={\"lat\": 19.43, \"lon\": -99.13},  # Map will be centered on Mexico City\n",
        "    width=800,  # Width of map\n",
        "    height=800,  # Height of map\n",
        "    hover_data=[\"price_usd\"],  # Display price when hovering mouse over house\n",
        ")\n",
        "\n",
        "# Add mapbox_style to figure layout\n",
        "fig.update_layout(mapbox_style=\"open-street-map\")\n",
        "\n",
        "# Show figure\n",
        "fig.show()"
      ],
      "metadata": {
        "id": "z3Sqh9tkxa4d"
      },
      "execution_count": null,
      "outputs": []
    },
    {
      "cell_type": "code",
      "source": [
        "df['state'].value_counts()"
      ],
      "metadata": {
        "id": "AORZ-eE_NxP3"
      },
      "execution_count": null,
      "outputs": []
    },
    {
      "cell_type": "code",
      "source": [
        "df[[\"area_m2\" , \"price_usd\"]].describe()"
      ],
      "metadata": {
        "id": "OkfIERT4PeeG"
      },
      "execution_count": null,
      "outputs": []
    },
    {
      "cell_type": "code",
      "source": [
        "plt.hist(df['area_m2'])\n",
        "plt.xlabel('Area [sq meters]')\n",
        "plt.ylabel('Frequency')\n",
        "plt.title('Distribution of Home Sizes')\n",
        "plt.show()"
      ],
      "metadata": {
        "id": "-hBSX2P6Qtyo"
      },
      "execution_count": null,
      "outputs": []
    },
    {
      "cell_type": "code",
      "source": [
        "# Use Matplotlib to create boxplot of \"area_m2\"\n",
        "plt.boxplot(df[\"area_m2\"], vert=False);\n",
        "\n",
        "# Add x-axis label\n",
        "plt.xlabel(\"Area [sq meters]\")\n",
        "\n",
        "# Add title\n",
        "plt.title(\"Distribution of Home Sizes\");"
      ],
      "metadata": {
        "id": "c1cP01vTTAv9"
      },
      "execution_count": null,
      "outputs": []
    },
    {
      "cell_type": "code",
      "source": [
        "# Use Matplotlib to create histogram of \"price_usd\"\n",
        "plt.hist(df[\"price_usd\"])\n",
        "\n",
        "# Add x-axis label\n",
        "plt.xlabel(\"Price [USD]\")\n",
        "\n",
        "# Add y-axis label\n",
        "plt.ylabel(\"Frequency\")\n",
        "\n",
        "# Add title\n",
        "plt.title(\"Distribution of Home Prices\");"
      ],
      "metadata": {
        "id": "8tFAacLHh2XQ"
      },
      "execution_count": null,
      "outputs": []
    },
    {
      "cell_type": "code",
      "source": [
        "# Use Matplotlib to create boxplot of \"price_usd\"\n",
        "plt.boxplot(df[\"price_usd\"], vert=False)\n",
        "\n",
        "# Add x-label axis\n",
        "plt.xlabel(\"Price [USD]\")\n",
        "\n",
        "# Add y-label axis\n",
        "plt.title(\"Distribution of Home Prices\");"
      ],
      "metadata": {
        "id": "aipYvxi1k36e"
      },
      "execution_count": null,
      "outputs": []
    },
    {
      "cell_type": "markdown",
      "source": [
        "## Analysis"
      ],
      "metadata": {
        "id": "auZ4iH6UAtgn"
      }
    },
    {
      "cell_type": "code",
      "source": [],
      "metadata": {
        "id": "arjifcbhAtSl"
      },
      "execution_count": null,
      "outputs": []
    },
    {
      "cell_type": "code",
      "source": [
        "# Declare variable `mean_price_by_state`\n",
        "mean_price_by_state = df.groupby(\"state\")[\"price_usd\"].mean().sort_values()\n",
        "\n",
        "# Print object type, shape, and head\n",
        "print(\"mean_price_by_state type:\", type(mean_price_by_state))\n",
        "print(\"mean_price_by_state shape:\", mean_price_by_state.shape)\n",
        "mean_price_by_state.head()"
      ],
      "metadata": {
        "id": "ernM1pnKAre1"
      },
      "execution_count": null,
      "outputs": []
    },
    {
      "cell_type": "code",
      "source": [
        "# Create bar chart from `mean_price_by_state` using pandas\n",
        "mean_price_by_state.plot(\n",
        "    kind=\"bar\",\n",
        "    xlabel=\"State\",\n",
        "    ylabel=\"Price [USD]\",\n",
        "    title=\"Mean House Price by State\"\n",
        ");"
      ],
      "metadata": {
        "id": "iNHhixVKwmUE"
      },
      "execution_count": null,
      "outputs": []
    },
    {
      "cell_type": "markdown",
      "source": [
        "It seems odd that Querétaro would be the most expensive real estate market in Mexico when, [according to recent GDP numbers](https://en.wikipedia.org/wiki/List_of_Mexican_states_by_GDP), it's not in the top 10 state economies. With all the variations in house sizes across states, a better metric to look at would be price per m<sup>2</sup>. In order to do that, we need to create a new column."
      ],
      "metadata": {
        "id": "vsXnQpD6w4-o"
      }
    },
    {
      "cell_type": "code",
      "source": [
        "# Create \"price_per_m2\" column\n",
        "df[\"price_per_m2\"] = df[\"price_usd\"] / df[\"area_m2\"]\n",
        "\n",
        "# Print object type, shape, and head\n",
        "print(\"df type:\", type(df))\n",
        "print(\"df shape:\", df.shape)\n",
        "df.head()"
      ],
      "metadata": {
        "id": "q_ZcqUYLw7KN"
      },
      "execution_count": null,
      "outputs": []
    },
    {
      "cell_type": "code",
      "source": [
        "# Group `df` by \"state\", create bar chart of \"price_per_m2\"\n",
        "(\n",
        " df\n",
        "    .groupby(\"state\")[\"price_per_m2\"]\n",
        "    .mean()\n",
        "    .sort_values(ascending=False)\n",
        "    .plot(\n",
        "    kind=\"bar\",\n",
        "    ylabel=\"Mean Price per m^2 [USD]\",\n",
        "    xlabel=\"State\",\n",
        "    title=\"Mean House Price per m^2 by State\"\n",
        "    )\n",
        ");"
      ],
      "metadata": {
        "id": "JLLHqv9Gxagp"
      },
      "execution_count": null,
      "outputs": []
    },
    {
      "cell_type": "markdown",
      "source": [
        "Now we see that the capital Mexico City (*Distrito Federal*) is by far the most expensive market.  Additionally, many of the top 10 states by GDP are also in the top 10 most expensive real estate markets. So it looks like this bar chart is a more accurate reflection of state real estate markets."
      ],
      "metadata": {
        "id": "fnrbI-VIFwP4"
      }
    },
    {
      "cell_type": "markdown",
      "source": [
        "From our previous question, we know that the location of a home affects its price (especially if it's in Mexico City), but what about home size? Does the size of a house influence price?\n",
        "\n",
        "A scatter plot can be helpful when evaluating the relationship between two columns because it lets you see if two variables are correlated — in this case, if an increase in home size is associated with an increase in price."
      ],
      "metadata": {
        "id": "bk97CR6mGKt4"
      }
    },
    {
      "cell_type": "code",
      "source": [
        "plt.scatter(x=df[\"area_m2\"], y=df[\"price_usd\"])\n",
        "plt.xlabel(\"Area [sq meters]\")\n",
        "plt.ylabel(\"Price [USD]\")\n",
        "plt.title(\"Price vs Area\");"
      ],
      "metadata": {
        "id": "WEhe8gibFEfv"
      },
      "execution_count": null,
      "outputs": []
    },
    {
      "cell_type": "code",
      "source": [
        "# Calculate correlation of \"price_usd\" and \"area_m2\"\n",
        "p_correlation = df[\"area_m2\"].corr(df[\"price_usd\"])\n",
        "\n",
        "# Print correlation coefficient\n",
        "print(\"Correlation of 'area_m2' and 'price_usd' (all Mexico):\", p_correlation)"
      ],
      "metadata": {
        "id": "iTI8UNx4GuZy"
      },
      "execution_count": null,
      "outputs": []
    },
    {
      "cell_type": "markdown",
      "source": [
        "## Subset of Morelos"
      ],
      "metadata": {
        "id": "QO1xay_WRjgN"
      }
    },
    {
      "cell_type": "markdown",
      "source": [
        "The correlation coefficient is over 0.5, so there's a moderate relationship house size and price in Mexico. But does this relationship hold true in every state? Let's look at a couple of states, starting with Morelos."
      ],
      "metadata": {
        "id": "hc4-HmLwRGmp"
      }
    },
    {
      "cell_type": "code",
      "source": [
        "# Declare variable `df_morelos` by subsetting `df`\n",
        "df_morelos = df[df[\"state\"] == \"Morelos\"]\n",
        "\n",
        "# Print object type, shape, and head\n",
        "print(\"df_morelos type:\", type(df_morelos))\n",
        "print(\"df_morelos shape:\", df_morelos.shape)\n",
        "df_morelos.head()"
      ],
      "metadata": {
        "id": "gTLzfPaVRHZF"
      },
      "execution_count": null,
      "outputs": []
    },
    {
      "cell_type": "markdown",
      "source": [
        "## Scatter Plot of Properties in Morelos"
      ],
      "metadata": {
        "id": "2kDgJuqZSOvT"
      }
    },
    {
      "cell_type": "code",
      "source": [
        "plt.scatter(x=df_morelos[\"area_m2\"], y=df_morelos[\"price_usd\"])\n",
        "plt.xlabel(\"Area [sq meters]\")\n",
        "plt.ylabel(\"Price [USD]\")\n",
        "plt.title(\"Morelos Price vs Area\")"
      ],
      "metadata": {
        "id": "S_Ibw-1zS1H1"
      },
      "execution_count": null,
      "outputs": []
    },
    {
      "cell_type": "code",
      "source": [
        "# Calculate correlation of \"price_usd\" and \"area_m2\" in `df_morelos`\n",
        "p_correlation = df_morelos[\"area_m2\"].corr(df_morelos[\"price_usd\"])\n",
        "\n",
        "# Print correlation coefficient\n",
        "print(\"Correlation of 'area_m2' and 'price_usd' (Morelos):\", p_correlation)"
      ],
      "metadata": {
        "id": "dQpL8KmbTe2-"
      },
      "execution_count": null,
      "outputs": []
    },
    {
      "cell_type": "markdown",
      "source": [
        "With a correlation coefficient that high, we can say that there's a strong relationship between house size and price in Morelos.\n",
        "\n",
        "To conclude, let's look at the capital Mexico City (*Distrito Federal*).  "
      ],
      "metadata": {
        "id": "AglyiQiaTsmi"
      }
    },
    {
      "cell_type": "code",
      "source": [
        "df_mexico_city = df[df[\"state\"] == \"Distrito Federal\"]\n",
        "\n",
        "print(\"df_mexico_city type:\", type(df_mexico_city))\n",
        "print(\"df_mexico_city shape:\", df_mexico_city.shape)\n",
        "\n",
        "plt.scatter(df_mexico_city[\"area_m2\"], df_mexico_city[\"price_usd\"])\n",
        "plt.xlabel(\"Area [sq meters]\")\n",
        "plt.ylabel(\"Price [USD]\")\n",
        "plt.title(\"Mexico City: Price vs. Area\");\n",
        "\n",
        "p_correlation = df_morelos[\"area_m2\"].corr(df_morelos[\"price_usd\"])\n",
        "print(\"Correlation of 'area_m2' and 'price_usd' (Mexico City):\", p_correlation)"
      ],
      "metadata": {
        "id": "g-AxE2WfTg5p"
      },
      "execution_count": null,
      "outputs": []
    },
    {
      "cell_type": "markdown",
      "source": [
        "Looking at the scatter plot and correlation coefficient, there's see a weak relationship between size and price. How should we interpret this?\n",
        "\n",
        "One interpretation is that the relationship we see between size and price in many states doesn't hold true in the country's biggest and most economically powerful urban center because there are other factors that have a larger influence on price. In fact, in the next project, we're going to look at another important Latin American city — Buenos Aires, Argentina — and build a model that predicts housing price by taking much more than size into account."
      ],
      "metadata": {
        "id": "gid2dHWTWiVj"
      }
    },
    {
      "cell_type": "markdown",
      "source": [
        "# Training Model"
      ],
      "metadata": {
        "id": "Q4kO80_0RXnB"
      }
    },
    {
      "cell_type": "code",
      "source": [],
      "metadata": {
        "id": "WSWHQUQZRc5K"
      },
      "execution_count": null,
      "outputs": []
    }
  ]
}