{
  "nbformat": 4,
  "nbformat_minor": 0,
  "metadata": {
    "colab": {
      "provenance": [],
      "authorship_tag": "ABX9TyML7Wp8/uCfeu15pWns9eV9",
      "include_colab_link": true
    },
    "kernelspec": {
      "name": "python3",
      "display_name": "Python 3"
    },
    "language_info": {
      "name": "python"
    }
  },
  "cells": [
    {
      "cell_type": "markdown",
      "metadata": {
        "id": "view-in-github",
        "colab_type": "text"
      },
      "source": [
        "<a href=\"https://colab.research.google.com/github/ibshafique/mlops_with_poridhi/blob/main/prerequisite_projects/WQU_DS/02_housing_in_buenos_aires/buenos_aires_notebook.ipynb\" target=\"_parent\"><img src=\"https://colab.research.google.com/assets/colab-badge.svg\" alt=\"Open In Colab\"/></a>"
      ]
    },
    {
      "cell_type": "markdown",
      "source": [
        "#Prerequisites"
      ],
      "metadata": {
        "id": "Kq5TkRNV_MwL"
      }
    },
    {
      "cell_type": "markdown",
      "source": [
        "##Importing relevant libraries"
      ],
      "metadata": {
        "id": "5BKvyOcp_SJx"
      }
    },
    {
      "cell_type": "code",
      "execution_count": null,
      "metadata": {
        "id": "BEdiwhv1RYNn"
      },
      "outputs": [],
      "source": [
        "import pandas as pd\n",
        "import matplotlib.pyplot as plt\n",
        "import plotly.express as px"
      ]
    },
    {
      "cell_type": "markdown",
      "source": [
        "##Importing the datasets"
      ],
      "metadata": {
        "id": "avjj-9aMDf0I"
      }
    },
    {
      "cell_type": "code",
      "source": [
        "url_1 = \"https://raw.githubusercontent.com/ibshafique/mlops_with_poridhi/refs/heads/main/prerequisite_projects/WQU_DS/02_housing_in_buenos_aires/dataset/buenos-aires-real-estate-1.csv\"\n",
        "url_2 = \"https://raw.githubusercontent.com/ibshafique/mlops_with_poridhi/refs/heads/main/prerequisite_projects/WQU_DS/02_housing_in_buenos_aires/dataset/buenos-aires-real-estate-2.csv\"\n",
        "url_3 = \"https://raw.githubusercontent.com/ibshafique/mlops_with_poridhi/refs/heads/main/prerequisite_projects/WQU_DS/02_housing_in_buenos_aires/dataset/buenos-aires-real-estate-3.csv\"\n",
        "url_4 = \"https://raw.githubusercontent.com/ibshafique/mlops_with_poridhi/refs/heads/main/prerequisite_projects/WQU_DS/02_housing_in_buenos_aires/dataset/buenos-aires-real-estate-4.csv\""
      ],
      "metadata": {
        "id": "k8lOGg8cYqwm"
      },
      "execution_count": null,
      "outputs": []
    },
    {
      "cell_type": "code",
      "source": [
        "df1 = pd.read_csv(url_1)\n",
        "df2 = pd.read_csv(url_2)\n",
        "df3 = pd.read_csv(url_3)\n",
        "df4 = pd.read_csv(url_4)"
      ],
      "metadata": {
        "id": "QKZ3ZcgqZ0R4"
      },
      "execution_count": null,
      "outputs": []
    },
    {
      "cell_type": "markdown",
      "source": [
        "#Data Insights\n",
        "\n",
        "\n",
        "\n"
      ],
      "metadata": {
        "id": "yrxLwCRxc3tZ"
      }
    },
    {
      "cell_type": "code",
      "source": [],
      "metadata": {
        "id": "5-D8Lotlc7yD"
      },
      "execution_count": null,
      "outputs": []
    }
  ]
}