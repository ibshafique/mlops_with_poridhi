{
  "cells": [
    {
      "cell_type": "markdown",
      "metadata": {
        "id": "view-in-github",
        "colab_type": "text"
      },
      "source": [
        "<a href=\"https://colab.research.google.com/github/ibshafique/mlops_with_poridhi/blob/main/prerequisite_projects/Car_Price/car_price.ipynb\" target=\"_parent\"><img src=\"https://colab.research.google.com/assets/colab-badge.svg\" alt=\"Open In Colab\"/></a>"
      ]
    },
    {
      "cell_type": "markdown",
      "metadata": {
        "id": "o3efl3TFI01_"
      },
      "source": [
        "# Prerequisites\n"
      ]
    },
    {
      "cell_type": "markdown",
      "source": [
        "Importing the related libraries"
      ],
      "metadata": {
        "id": "-i9Hs2tIznN8"
      }
    },
    {
      "cell_type": "code",
      "execution_count": null,
      "metadata": {
        "id": "w5XXKDSriwXU"
      },
      "outputs": [],
      "source": [
        "import pandas as pd\n",
        "import numpy as np\n",
        "import matplotlib.pyplot as plt\n",
        "import seaborn as sns\n",
        "\n",
        "from sklearn.metrics import r2_score, mean_absolute_error, mean_squared_error, r2_score\n",
        "from sklearn.model_selection import train_test_split\n",
        "from sklearn.linear_model import LinearRegression\n",
        "\n",
        "import pickle as pkl"
      ]
    },
    {
      "cell_type": "markdown",
      "source": [
        "Importing the dataset."
      ],
      "metadata": {
        "id": "pNSGMou1zpxu"
      }
    },
    {
      "cell_type": "code",
      "execution_count": null,
      "metadata": {
        "id": "hc-nKo7xIp0-"
      },
      "outputs": [],
      "source": [
        "train_url = \"https://raw.githubusercontent.com/ibshafique/mlops_with_poridhi/refs/heads/main/prerequisite_projects/Car_Price/dataset/car_price.csv\"\n",
        "train_df = pd.read_csv(train_url)"
      ]
    },
    {
      "cell_type": "markdown",
      "metadata": {
        "id": "kcrUex9pi9MT"
      },
      "source": [
        "# Data Insights"
      ]
    },
    {
      "cell_type": "code",
      "source": [
        "train_df.head()"
      ],
      "metadata": {
        "id": "moNXROolyqdh"
      },
      "execution_count": null,
      "outputs": []
    },
    {
      "cell_type": "code",
      "source": [
        "train_df.shape"
      ],
      "metadata": {
        "id": "Zg58MWZJyfD5"
      },
      "execution_count": null,
      "outputs": []
    },
    {
      "cell_type": "code",
      "source": [
        "train_df.isnull().sum()"
      ],
      "metadata": {
        "id": "9LwEJjwHynKH"
      },
      "execution_count": null,
      "outputs": []
    },
    {
      "cell_type": "code",
      "source": [
        "train_df.duplicated().sum()"
      ],
      "metadata": {
        "id": "B3bmmG40yw8n"
      },
      "execution_count": null,
      "outputs": []
    },
    {
      "cell_type": "markdown",
      "source": [
        "# Data Cleaning"
      ],
      "metadata": {
        "id": "qYMORNAuzNe_"
      }
    },
    {
      "cell_type": "markdown",
      "source": [
        "The 'torque' values donot have much relation with the price of a car. So we are dropping this column."
      ],
      "metadata": {
        "id": "rrESH_xDzUuQ"
      }
    },
    {
      "cell_type": "code",
      "execution_count": null,
      "metadata": {
        "id": "zfCtjtf6Vcp3"
      },
      "outputs": [],
      "source": [
        "train_df = train_df.drop(columns=['torque'])"
      ]
    },
    {
      "cell_type": "markdown",
      "source": [
        "In the previous section we saw there are some rows with missing values, so we are dropping those rows.\n",
        "\n",
        "We are also dropping the duplicated values of rows."
      ],
      "metadata": {
        "id": "GB7EaMW-z4qh"
      }
    },
    {
      "cell_type": "code",
      "source": [
        "train_df.dropna(inplace=True)\n",
        "train_df.drop_duplicates(inplace=True)\n",
        "train_df.shape"
      ],
      "metadata": {
        "id": "bRjXPE--z4R0"
      },
      "execution_count": null,
      "outputs": []
    },
    {
      "cell_type": "markdown",
      "source": [],
      "metadata": {
        "id": "HH_ukpXf0MlC"
      }
    },
    {
      "cell_type": "code",
      "source": [
        "train_df.head()"
      ],
      "metadata": {
        "id": "8lyj_GL40gtn"
      },
      "execution_count": null,
      "outputs": []
    },
    {
      "cell_type": "markdown",
      "source": [
        "Now we will be extracting the values from these columns:\n",
        "\n",
        "i. name\n",
        "ii. mileage\n",
        "iii. engine\n",
        "iv. max_power"
      ],
      "metadata": {
        "id": "Lq3Lj9Vv031U"
      }
    },
    {
      "cell_type": "code",
      "source": [
        "train_df['name'] = train_df['name'].str.split(' ').str[0]\n",
        "train_df['mileage'] = train_df['mileage'].str.split(' ').str[0].astype(float)\n",
        "train_df['engine'] = train_df['engine'].str.split(' ').str[0].astype(float)\n",
        "train_df['max_power'] = train_df['max_power'].str.split(' ').str[0]\n",
        "\n",
        "#there was a non-numerical value in the 'max_power' column, so removed that with:\n",
        "train_df['max_power'] = pd.to_numeric(train_df['max_power'], errors='coerce')\n",
        "train_df.dropna(inplace=True)\n",
        "\n",
        "train_df.head()\n",
        "train_df.info()"
      ],
      "metadata": {
        "id": "BTLTmVG50uPF"
      },
      "execution_count": null,
      "outputs": []
    },
    {
      "cell_type": "code",
      "source": [
        "print(train_df['name'].unique())\n",
        "print('')\n",
        "print(train_df['fuel'].unique())\n",
        "print('')\n",
        "print(train_df['seller_type'].unique())\n",
        "print('')\n",
        "print(train_df['transmission'].unique())"
      ],
      "metadata": {
        "id": "W3Nclew79db2"
      },
      "execution_count": null,
      "outputs": []
    },
    {
      "cell_type": "markdown",
      "source": [
        "The columns 'name', 'fuel', 'transmission_type' and 'owner' are objects.\n",
        "We will convert them to integers."
      ],
      "metadata": {
        "id": "0koOzXyJ7I04"
      }
    },
    {
      "cell_type": "code",
      "source": [
        "train_df['name'] = train_df['name'].replace({'Maruti': 1 , 'Skoda': 2, 'Honda': 3, 'Hyundai': 4, 'Toyota': 5, 'Ford': 6, 'Renault': 7,\n",
        "                                             'Mahindra': 8 , 'Tata': 9 , 'Chevrolet': 10, 'Datsun': 11, 'Jeep': 12, 'Mercedes-Benz': 13,\n",
        "                                             'Mitsubishi': 14, 'Audi': 15, 'Volkswagen': 16, 'BMW': 17, 'Nissan': 18, 'Lexus': 19,\n",
        "                                             'Jaguar': 20, 'Land': 21, 'MG': 22, 'Volvo': 23, 'Daewoo': 24, 'Kia': 25, 'Fiat': 26, 'Force': 27,\n",
        "                                             'Ambassador': 28, 'Ashok': 29, 'Isuzu': 30, 'Opel': 31})\n",
        "\n",
        "train_df['transmission'] = train_df['transmission'].replace({'Manual': 1, 'Automatic': 2})\n",
        "\n",
        "train_df['seller_type'] = train_df['seller_type'].replace({'Individual': 1, 'Dealer': 2, 'Trustmark Dealer': 3})\n",
        "\n",
        "train_df['fuel'] = train_df['fuel'].replace({'Diesel': 1, 'Petrol': 2, 'LPG': 3, 'CNG': 4})\n",
        "\n",
        "train_df['owner'] = train_df['owner'].replace({'First Owner': 1, 'Second Owner': 2, 'Third Owner': 3, 'Fourth & Above Owner': 4, 'Test Drive Car': 5})\n"
      ],
      "metadata": {
        "id": "QAilEpVR7VxS"
      },
      "execution_count": null,
      "outputs": []
    },
    {
      "cell_type": "code",
      "source": [
        "train_df"
      ],
      "metadata": {
        "id": "bn_PxjlaIImg"
      },
      "execution_count": null,
      "outputs": []
    },
    {
      "cell_type": "code",
      "source": [
        "train_df.info()"
      ],
      "metadata": {
        "id": "Axc9uCI3PCyH"
      },
      "execution_count": null,
      "outputs": []
    },
    {
      "cell_type": "markdown",
      "source": [
        "# Data Visualisation"
      ],
      "metadata": {
        "id": "64FWQ1vDXHJN"
      }
    },
    {
      "cell_type": "code",
      "source": [
        "corr_matrix = train_df.corr()\n",
        "\n",
        "plt.figure(figsize=(12, 8))\n",
        "sns.heatmap(corr_matrix, annot=True, fmt=\".2f\", cmap=\"coolwarm\", linewidths=0.5)\n",
        "plt.title(\"Correlation Heatmap\")\n",
        "plt.show()"
      ],
      "metadata": {
        "id": "jlj5dKk4WvRG"
      },
      "execution_count": null,
      "outputs": []
    },
    {
      "cell_type": "code",
      "source": [
        "# Compute the correlation matrix\n",
        "corr_matrix = train_df.corr().abs()  # Compute absolute correlation values\n",
        "\n",
        "# Extract correlations with 'selling_price'\n",
        "selling_price_corr = corr_matrix[\"selling_price\"].sort_values(ascending=False)\n",
        "\n",
        "# Filter values greater than 0.4 for high correlation (adjustable threshold)\n",
        "high_corr_selling_price = selling_price_corr[selling_price_corr > 0.4]\n",
        "\n",
        "# Convert to DataFrame for better readability\n",
        "high_corr_selling_price_df = high_corr_selling_price.reset_index()\n",
        "high_corr_selling_price_df.columns = [\"Feature\", \"Correlation with Selling Price\"]\n",
        "\n",
        "# Display the results\n",
        "print(high_corr_selling_price_df)"
      ],
      "metadata": {
        "id": "3jt7gEuBYduf"
      },
      "execution_count": null,
      "outputs": []
    },
    {
      "cell_type": "markdown",
      "source": [
        "# Data Training"
      ],
      "metadata": {
        "id": "F0yoy8rmYoJY"
      }
    },
    {
      "cell_type": "markdown",
      "source": [
        "## Splitting Data"
      ],
      "metadata": {
        "id": "HMYYKqsXTH2E"
      }
    },
    {
      "cell_type": "code",
      "source": [
        "input_data = train_df.drop(columns=['selling_price'])\n",
        "output_data = train_df['selling_price']"
      ],
      "metadata": {
        "id": "WJJP2FYRYnQn"
      },
      "execution_count": null,
      "outputs": []
    },
    {
      "cell_type": "code",
      "source": [
        "x_train, x_test, y_train, y_test = train_test_split(input_data, output_data, test_size=0.2)"
      ],
      "metadata": {
        "id": "xeomhop-HOfq"
      },
      "execution_count": null,
      "outputs": []
    },
    {
      "cell_type": "markdown",
      "source": [
        "## Model Training"
      ],
      "metadata": {
        "id": "t529VVmyTLuJ"
      }
    },
    {
      "cell_type": "markdown",
      "source": [
        "We are using Linear Regression to fit this model."
      ],
      "metadata": {
        "id": "GyAkKXYHUjvg"
      }
    },
    {
      "cell_type": "code",
      "source": [
        "model = LinearRegression()\n",
        "model.fit(x_train, y_train)"
      ],
      "metadata": {
        "id": "evhC9PCOTSQ4"
      },
      "execution_count": null,
      "outputs": []
    },
    {
      "cell_type": "code",
      "source": [
        "y_pred = model.predict(x_test)\n"
      ],
      "metadata": {
        "id": "3KJbGNluTSIY"
      },
      "execution_count": null,
      "outputs": []
    },
    {
      "cell_type": "code",
      "source": [
        "# R² Score (Accuracy)\n",
        "r2 = r2_score(y_test, y_pred)\n",
        "print(f\"R² Score: {r2*100:.4f}\")\n",
        "\n",
        "# Mean Absolute Error (MAE)\n",
        "mae = mean_absolute_error(y_test, y_pred)\n",
        "print(f\"Mean Absolute Error (MAE): {mae:.4f}\")\n",
        "\n",
        "# Mean Squared Error (MSE)\n",
        "mse = mean_squared_error(y_test, y_pred)\n",
        "print(f\"Mean Squared Error (MSE): {mse:.4f}\")\n",
        "\n",
        "# Root Mean Squared Error (RMSE)\n",
        "rmse = np.sqrt(mse)\n",
        "print(f\"Root Mean Squared Error (RMSE): {rmse:.4f}\")"
      ],
      "metadata": {
        "id": "Du75XeppTR1P"
      },
      "execution_count": null,
      "outputs": []
    },
    {
      "cell_type": "markdown",
      "source": [
        "The accuracy of this model is around 60%. This might be due to less data.\n",
        "However, we will be more looking into exporting the model to make our app."
      ],
      "metadata": {
        "id": "BsJg439tYt9A"
      }
    },
    {
      "cell_type": "markdown",
      "source": [
        "# Exporting Model"
      ],
      "metadata": {
        "id": "jhT6pBv2Y-g2"
      }
    },
    {
      "cell_type": "code",
      "source": [
        "pkl.dump(model,open('car_price_model.pkl','wb'))"
      ],
      "metadata": {
        "id": "1MVZL_D8ZA6m"
      },
      "execution_count": null,
      "outputs": []
    }
  ],
  "metadata": {
    "colab": {
      "provenance": [],
      "include_colab_link": true
    },
    "kernelspec": {
      "display_name": "Python 3",
      "name": "python3"
    },
    "language_info": {
      "name": "python"
    }
  },
  "nbformat": 4,
  "nbformat_minor": 0
}