{
  "nbformat": 4,
  "nbformat_minor": 0,
  "metadata": {
    "colab": {
      "provenance": [],
      "toc_visible": true,
      "authorship_tag": "ABX9TyPzaefy6CJwGQASnpp2P/VK",
      "include_colab_link": true
    },
    "kernelspec": {
      "name": "python3",
      "display_name": "Python 3"
    },
    "language_info": {
      "name": "python"
    }
  },
  "cells": [
    {
      "cell_type": "markdown",
      "metadata": {
        "id": "view-in-github",
        "colab_type": "text"
      },
      "source": [
        "<a href=\"https://colab.research.google.com/github/ibshafique/mlops_with_poridhi/blob/main/prerequisite_projects/Titanic_Project/project_titanic_1.ipynb\" target=\"_parent\"><img src=\"https://colab.research.google.com/assets/colab-badge.svg\" alt=\"Open In Colab\"/></a>"
      ]
    },
    {
      "cell_type": "markdown",
      "source": [
        "<div style=\"text-align: center;\">\n",
        "    <img src=\"https://upload.wikimedia.org/wikipedia/commons/5/51/Titanic_voyage_map.png\" alt=\"Titanic Journey\" width=\"1900\"/>\n",
        "    <p><em>Journey OF Titanic</em></p>\n",
        "</div>"
      ],
      "metadata": {
        "id": "jceJeNeqdDV8"
      }
    },
    {
      "cell_type": "markdown",
      "source": [
        "# Import Libraries"
      ],
      "metadata": {
        "id": "9Q3GjPR3gFax"
      }
    },
    {
      "cell_type": "code",
      "execution_count": 1,
      "metadata": {
        "id": "4ddUzUAHf_Z3"
      },
      "outputs": [],
      "source": [
        "import pandas as pd\n",
        "import matplotlib.pyplot as plt"
      ]
    },
    {
      "cell_type": "markdown",
      "source": [
        "# Data Import"
      ],
      "metadata": {
        "id": "EoV-r7T5PQOq"
      }
    },
    {
      "cell_type": "markdown",
      "source": [
        "links for datasets from github repository"
      ],
      "metadata": {
        "id": "wqwzOZgPiUqc"
      }
    },
    {
      "cell_type": "code",
      "source": [
        "train_url = 'https://raw.githubusercontent.com/ibshafique/mlops_with_poridhi/refs/heads/main/prerequisite_projects/Titanic_Project/dataset/train.csv'\n",
        "test_url = 'https://raw.githubusercontent.com/ibshafique/mlops_with_poridhi/refs/heads/main/prerequisite_projects/Titanic_Project/dataset/test.csv'"
      ],
      "metadata": {
        "id": "SWQoDZ5xgGlw"
      },
      "execution_count": 2,
      "outputs": []
    },
    {
      "cell_type": "markdown",
      "source": [
        " # Data Insights"
      ],
      "metadata": {
        "id": "h5YBPzdSgoVO"
      }
    },
    {
      "cell_type": "markdown",
      "source": [
        "loading the datasets into pandas dataframe and setting display options for dataframes"
      ],
      "metadata": {
        "id": "tUgVGbZLiclR"
      }
    },
    {
      "cell_type": "code",
      "source": [
        "#loading the datasets into pandas dataframe\n",
        "train_df = pd.read_csv(train_url)\n",
        "test_df = pd.read_csv(test_url)\n",
        "\n",
        "#setting some display\n",
        "pd.set_option('display.max_columns', None)\n",
        "pd.set_option('display.width', None)"
      ],
      "metadata": {
        "id": "h0wKYobthl9-"
      },
      "execution_count": 3,
      "outputs": []
    },
    {
      "cell_type": "markdown",
      "source": [
        "Looking into the first 5 samples of each datasets\n",
        "\n"
      ],
      "metadata": {
        "id": "r4OepAJntyj_"
      }
    },
    {
      "cell_type": "code",
      "source": [
        "print(\"train_dataframe:\")\n",
        "print(train_df.head())\n",
        "print()\n",
        "\n",
        "print(\"train_dataframe:\")\n",
        "print(test_df.head())"
      ],
      "metadata": {
        "colab": {
          "base_uri": "https://localhost:8080/"
        },
        "id": "V8J-I5l7j9Af",
        "outputId": "6de6b997-9f4f-4117-b45b-38c78d188f79"
      },
      "execution_count": 4,
      "outputs": [
        {
          "output_type": "stream",
          "name": "stdout",
          "text": [
            "train_dataframe:\n",
            "   PassengerId  Survived  Pclass                                               Name     Sex   Age  \\\n",
            "0            1         0       3                            Braund, Mr. Owen Harris    male  22.0   \n",
            "1            2         1       1  Cumings, Mrs. John Bradley (Florence Briggs Th...  female  38.0   \n",
            "2            3         1       3                             Heikkinen, Miss. Laina  female  26.0   \n",
            "3            4         1       1       Futrelle, Mrs. Jacques Heath (Lily May Peel)  female  35.0   \n",
            "4            5         0       3                           Allen, Mr. William Henry    male  35.0   \n",
            "\n",
            "   SibSp  Parch            Ticket     Fare Cabin Embarked  \n",
            "0      1      0         A/5 21171   7.2500   NaN        S  \n",
            "1      1      0          PC 17599  71.2833   C85        C  \n",
            "2      0      0  STON/O2. 3101282   7.9250   NaN        S  \n",
            "3      1      0            113803  53.1000  C123        S  \n",
            "4      0      0            373450   8.0500   NaN        S  \n",
            "\n",
            "train_dataframe:\n",
            "   PassengerId  Pclass                                          Name     Sex   Age  SibSp  Parch  \\\n",
            "0          892       3                              Kelly, Mr. James    male  34.5      0      0   \n",
            "1          893       3              Wilkes, Mrs. James (Ellen Needs)  female  47.0      1      0   \n",
            "2          894       2                     Myles, Mr. Thomas Francis    male  62.0      0      0   \n",
            "3          895       3                              Wirz, Mr. Albert    male  27.0      0      0   \n",
            "4          896       3  Hirvonen, Mrs. Alexander (Helga E Lindqvist)  female  22.0      1      1   \n",
            "\n",
            "    Ticket     Fare Cabin Embarked  \n",
            "0   330911   7.8292   NaN        Q  \n",
            "1   363272   7.0000   NaN        S  \n",
            "2   240276   9.6875   NaN        Q  \n",
            "3   315154   8.6625   NaN        S  \n",
            "4  3101298  12.2875   NaN        S  \n"
          ]
        }
      ]
    },
    {
      "cell_type": "markdown",
      "source": [
        "getting statistical information about the datasets"
      ],
      "metadata": {
        "id": "lbPnlFE0jzc3"
      }
    },
    {
      "cell_type": "code",
      "source": [
        "print(\"train_dataframe:\")\n",
        "print(train_df.describe())\n",
        "print()\n",
        "\n",
        "print(\"test_dataframe:\")\n",
        "print(test_df.describe())"
      ],
      "metadata": {
        "colab": {
          "base_uri": "https://localhost:8080/"
        },
        "id": "rYh7_oO6g7br",
        "outputId": "4319fccf-8a9f-44b4-c4bd-932fa563fab4"
      },
      "execution_count": 5,
      "outputs": [
        {
          "output_type": "stream",
          "name": "stdout",
          "text": [
            "train_dataframe:\n",
            "       PassengerId    Survived      Pclass         Age       SibSp       Parch        Fare\n",
            "count   891.000000  891.000000  891.000000  714.000000  891.000000  891.000000  891.000000\n",
            "mean    446.000000    0.383838    2.308642   29.699118    0.523008    0.381594   32.204208\n",
            "std     257.353842    0.486592    0.836071   14.526497    1.102743    0.806057   49.693429\n",
            "min       1.000000    0.000000    1.000000    0.420000    0.000000    0.000000    0.000000\n",
            "25%     223.500000    0.000000    2.000000   20.125000    0.000000    0.000000    7.910400\n",
            "50%     446.000000    0.000000    3.000000   28.000000    0.000000    0.000000   14.454200\n",
            "75%     668.500000    1.000000    3.000000   38.000000    1.000000    0.000000   31.000000\n",
            "max     891.000000    1.000000    3.000000   80.000000    8.000000    6.000000  512.329200\n",
            "\n",
            "test_dataframe:\n",
            "       PassengerId      Pclass         Age       SibSp       Parch        Fare\n",
            "count   418.000000  418.000000  332.000000  418.000000  418.000000  417.000000\n",
            "mean   1100.500000    2.265550   30.272590    0.447368    0.392344   35.627188\n",
            "std     120.810458    0.841838   14.181209    0.896760    0.981429   55.907576\n",
            "min     892.000000    1.000000    0.170000    0.000000    0.000000    0.000000\n",
            "25%     996.250000    1.000000   21.000000    0.000000    0.000000    7.895800\n",
            "50%    1100.500000    3.000000   27.000000    0.000000    0.000000   14.454200\n",
            "75%    1204.750000    3.000000   39.000000    1.000000    0.000000   31.500000\n",
            "max    1309.000000    3.000000   76.000000    8.000000    9.000000  512.329200\n"
          ]
        }
      ]
    },
    {
      "cell_type": "markdown",
      "source": [
        "looking into the type of data of each columns of the dataframes and their missing values"
      ],
      "metadata": {
        "id": "sJ34Q8i05-Gb"
      }
    },
    {
      "cell_type": "code",
      "source": [
        "print(\"train_dataframe:\")\n",
        "print(train_df.info())\n",
        "print()\n",
        "\n",
        "print(\"test_dataframe:\")\n",
        "print(test_df.info())"
      ],
      "metadata": {
        "colab": {
          "base_uri": "https://localhost:8080/"
        },
        "id": "wVwLrdSq53Pz",
        "outputId": "e2f50562-213f-4a9d-8b5f-87ea15c5d10c"
      },
      "execution_count": 6,
      "outputs": [
        {
          "output_type": "stream",
          "name": "stdout",
          "text": [
            "train_dataframe:\n",
            "<class 'pandas.core.frame.DataFrame'>\n",
            "RangeIndex: 891 entries, 0 to 890\n",
            "Data columns (total 12 columns):\n",
            " #   Column       Non-Null Count  Dtype  \n",
            "---  ------       --------------  -----  \n",
            " 0   PassengerId  891 non-null    int64  \n",
            " 1   Survived     891 non-null    int64  \n",
            " 2   Pclass       891 non-null    int64  \n",
            " 3   Name         891 non-null    object \n",
            " 4   Sex          891 non-null    object \n",
            " 5   Age          714 non-null    float64\n",
            " 6   SibSp        891 non-null    int64  \n",
            " 7   Parch        891 non-null    int64  \n",
            " 8   Ticket       891 non-null    object \n",
            " 9   Fare         891 non-null    float64\n",
            " 10  Cabin        204 non-null    object \n",
            " 11  Embarked     889 non-null    object \n",
            "dtypes: float64(2), int64(5), object(5)\n",
            "memory usage: 83.7+ KB\n",
            "None\n",
            "\n",
            "test_dataframe:\n",
            "<class 'pandas.core.frame.DataFrame'>\n",
            "RangeIndex: 418 entries, 0 to 417\n",
            "Data columns (total 11 columns):\n",
            " #   Column       Non-Null Count  Dtype  \n",
            "---  ------       --------------  -----  \n",
            " 0   PassengerId  418 non-null    int64  \n",
            " 1   Pclass       418 non-null    int64  \n",
            " 2   Name         418 non-null    object \n",
            " 3   Sex          418 non-null    object \n",
            " 4   Age          332 non-null    float64\n",
            " 5   SibSp        418 non-null    int64  \n",
            " 6   Parch        418 non-null    int64  \n",
            " 7   Ticket       418 non-null    object \n",
            " 8   Fare         417 non-null    float64\n",
            " 9   Cabin        91 non-null     object \n",
            " 10  Embarked     418 non-null    object \n",
            "dtypes: float64(2), int64(4), object(5)\n",
            "memory usage: 36.0+ KB\n",
            "None\n"
          ]
        }
      ]
    },
    {
      "cell_type": "markdown",
      "source": [
        "finding out the number of missing values in each colums"
      ],
      "metadata": {
        "id": "1PcXAvU1QKdx"
      }
    },
    {
      "cell_type": "code",
      "source": [
        "print(\"train_df:\")\n",
        "print(train_df.isnull().sum())\n",
        "print()\n",
        "\n",
        "print(\"test_df:\")\n",
        "print(test_df.isnull().sum())"
      ],
      "metadata": {
        "colab": {
          "base_uri": "https://localhost:8080/"
        },
        "id": "0RnRzevB6pWx",
        "outputId": "2a34870e-f04c-461b-8059-0e4b31b85ec1"
      },
      "execution_count": 7,
      "outputs": [
        {
          "output_type": "stream",
          "name": "stdout",
          "text": [
            "train_df:\n",
            "PassengerId      0\n",
            "Survived         0\n",
            "Pclass           0\n",
            "Name             0\n",
            "Sex              0\n",
            "Age            177\n",
            "SibSp            0\n",
            "Parch            0\n",
            "Ticket           0\n",
            "Fare             0\n",
            "Cabin          687\n",
            "Embarked         2\n",
            "dtype: int64\n",
            "\n",
            "test_df:\n",
            "PassengerId      0\n",
            "Pclass           0\n",
            "Name             0\n",
            "Sex              0\n",
            "Age             86\n",
            "SibSp            0\n",
            "Parch            0\n",
            "Ticket           0\n",
            "Fare             1\n",
            "Cabin          327\n",
            "Embarked         0\n",
            "dtype: int64\n"
          ]
        }
      ]
    },
    {
      "cell_type": "markdown",
      "source": [
        "## Data Visualization"
      ],
      "metadata": {
        "id": "LgWS6-NNfgb1"
      }
    },
    {
      "cell_type": "code",
      "source": [
        "print(train_df[['Pclass', 'Survived']].groupby('Pclass').mean())\n",
        "print(train_df[['Sex', 'Survived']].groupby('Sex').mean())"
      ],
      "metadata": {
        "colab": {
          "base_uri": "https://localhost:8080/"
        },
        "id": "5dPyzC7UfHZg",
        "outputId": "68b932e0-3944-42fd-e907-b608fe7b2977"
      },
      "execution_count": 21,
      "outputs": [
        {
          "output_type": "stream",
          "name": "stdout",
          "text": [
            "        Survived\n",
            "Pclass          \n",
            "1       0.629630\n",
            "2       0.472826\n",
            "3       0.242363\n",
            "        Survived\n",
            "Sex             \n",
            "female  0.742038\n",
            "male    0.188908\n"
          ]
        }
      ]
    }
  ]
}